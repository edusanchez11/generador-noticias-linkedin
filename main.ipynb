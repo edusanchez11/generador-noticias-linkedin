{
 "cells": [
  {
   "cell_type": "markdown",
   "id": "142518f1",
   "metadata": {},
   "source": [
    "# 📰 Generador de Noticias para LinkedIn\n",
    "\n",
    "Este notebook demuestra cómo usar la aplicación para generar contenido de LinkedIn automáticamente usando noticias de actualidad y LLMs.\n",
    "\n",
    "## 🚀 Características principales\n",
    "\n",
    "- **Múltiples fuentes de noticias**: NewsAPI y The Guardian\n",
    "- **Integración con LLMs**: OpenAI GPT-3.5-turbo y Groq LLaMA\n",
    "- **Personalización avanzada**: Estilos, tonos y longitudes personalizables\n",
    "- **Optimización para LinkedIn**: Hashtags, CTAs y formato optimizado"
   ]
  },
  {
   "cell_type": "code",
   "execution_count": null,
   "id": "e0502e38",
   "metadata": {},
   "outputs": [],
   "source": [
    "# Importar librerías necesarias\n",
    "import streamlit as st\n",
    "import requests\n",
    "import openai\n",
    "from groq import Groq\n",
    "import os\n",
    "from datetime import datetime\n",
    "import json\n",
    "\n",
    "# Importar utilidades personalizadas\n",
    "from utils import NewsProcessor, LinkedInOptimizer, TrendAnalyzer, generar_prompt_personalizado\n",
    "\n",
    "# Configurar variables de ejemplo\n",
    "print(\"🚀 Configuración inicial completada\")\n",
    "print(\"📁 Archivos disponibles:\")\n",
    "print(\"   - app.py: Aplicación principal de Streamlit\")\n",
    "print(\"   - utils.py: Funciones de utilidad\")\n",
    "print(\"   - requirements.txt: Dependencias del proyecto\")\n",
    "print(\"   - README.md: Documentación completa\")"
   ]
  },
  {
   "cell_type": "markdown",
   "id": "7f99d22b",
   "metadata": {},
   "source": [
    "## 🛠️ Instalación de Dependencias\n",
    "\n",
    "Primero, asegúrate de tener todas las librerías necesarias instaladas:"
   ]
  },
  {
   "cell_type": "code",
   "execution_count": null,
   "id": "5d275a78",
   "metadata": {},
   "outputs": [],
   "source": [
    "# Instalación de dependencias (ejecutar solo si es necesario)\n",
    "# !pip install streamlit openai groq requests python-dotenv\n",
    "\n",
    "# Verificar instalación\n",
    "try:\n",
    "    import streamlit\n",
    "    import openai\n",
    "    import requests\n",
    "    print(\"✅ Todas las librerías están instaladas correctamente\")\n",
    "    print(f\"📊 Streamlit versión: {streamlit.__version__}\")\n",
    "    print(f\"🤖 OpenAI versión: {openai.__version__}\")\n",
    "except ImportError as e:\n",
    "    print(f\"❌ Error: {e}\")\n",
    "    print(\"💡 Ejecuta: pip install -r requirements.txt\")"
   ]
  },
  {
   "cell_type": "markdown",
   "id": "0b09b17f",
   "metadata": {},
   "source": [
    "## ⚙️ Configuración de APIs\n",
    "\n",
    "Para usar la aplicación necesitarás API keys de los siguientes servicios:\n",
    "\n",
    "### 🗞️ APIs de Noticias\n",
    "1. **NewsAPI** (gratis): https://newsapi.org/\n",
    "2. **The Guardian** (gratis): https://open-platform.theguardian.com/\n",
    "\n",
    "### 🤖 APIs de LLM  \n",
    "1. **OpenAI**: https://platform.openai.com/\n",
    "2. **Groq** (más económico): https://console.groq.com/\n",
    "\n",
    "### 🔐 Configuración segura\n",
    "Crea un archivo `.env` con tus keys o configúralas en el sidebar de la aplicación."
   ]
  },
  {
   "cell_type": "code",
   "execution_count": null,
   "id": "01ef3fcd",
   "metadata": {},
   "outputs": [],
   "source": [
    "# Ejemplo de configuración de API keys (no incluir keys reales aquí)\n",
    "api_config = {\n",
    "    \"newsapi_key\": \"tu_newsapi_key_aqui\",\n",
    "    \"guardian_key\": \"tu_guardian_key_aqui\", \n",
    "    \"openai_key\": \"tu_openai_key_aqui\",\n",
    "    \"groq_key\": \"tu_groq_key_aqui\"\n",
    "}\n",
    "\n",
    "print(\"📋 Plantilla de configuración creada\")\n",
    "print(\"⚠️  Recuerda reemplazar con tus API keys reales\")\n",
    "print(\"💡 Puedes usar variables de entorno para mayor seguridad:\")\n",
    "print(\"   - os.getenv('NEWSAPI_KEY')\")\n",
    "print(\"   - os.getenv('OPENAI_API_KEY')\")\n",
    "\n",
    "# Mostrar estructura del archivo .env\n",
    "print(\"\\n📄 Contenido del archivo .env:\")\n",
    "print(\"NEWSAPI_KEY=tu_newsapi_key_aqui\")\n",
    "print(\"GUARDIAN_API_KEY=tu_guardian_api_key_aqui\")\n",
    "print(\"OPENAI_API_KEY=tu_openai_api_key_aqui\")\n",
    "print(\"GROQ_API_KEY=tu_groq_api_key_aqui\")"
   ]
  },
  {
   "cell_type": "markdown",
   "id": "0d3d04c9",
   "metadata": {},
   "source": [
    "## 🚀 Ejecutar la Aplicación\n",
    "\n",
    "Para ejecutar la aplicación de Streamlit, usa el siguiente comando en la terminal:"
   ]
  },
  {
   "cell_type": "code",
   "execution_count": null,
   "id": "6193da52",
   "metadata": {},
   "outputs": [],
   "source": [
    "# Comando para ejecutar la aplicación Streamlit\n",
    "import subprocess\n",
    "import sys\n",
    "\n",
    "def ejecutar_streamlit():\n",
    "    \"\"\"Ejecuta la aplicación Streamlit\"\"\"\n",
    "    try:\n",
    "        print(\"🚀 Iniciando aplicación Streamlit...\")\n",
    "        print(\"📍 La aplicación se abrirá en: http://localhost:8501\")\n",
    "        print(\"\\n💡 Instrucciones:\")\n",
    "        print(\"1. La aplicación se abrirá automáticamente en tu navegador\")\n",
    "        print(\"2. Configura tus API keys en el sidebar\")\n",
    "        print(\"3. Selecciona fuente de noticias y categoría\")\n",
    "        print(\"4. Personaliza el estilo y tono\")\n",
    "        print(\"5. Haz clic en 'Obtener Noticias'\")\n",
    "        print(\"6. Selecciona una noticia y genera tu post\")\n",
    "        \n",
    "        # Para ejecutar desde notebook (descomenta la siguiente línea)\n",
    "        # subprocess.Popen([sys.executable, \"-m\", \"streamlit\", \"run\", \"app.py\"])\n",
    "        \n",
    "        print(\"\\n🖥️  Para ejecutar manualmente desde terminal:\")\n",
    "        print(\"   streamlit run app.py\")\n",
    "        \n",
    "    except Exception as e:\n",
    "        print(f\"❌ Error: {e}\")\n",
    "\n",
    "ejecutar_streamlit()"
   ]
  }
 ],
 "metadata": {
  "kernelspec": {
   "display_name": "Python 3",
   "language": "python",
   "name": "python3"
  },
  "language_info": {
   "name": "python",
   "version": "3.12.0"
  }
 },
 "nbformat": 4,
 "nbformat_minor": 5
}
